{
 "cells": [
  {
   "cell_type": "code",
   "execution_count": 1,
   "metadata": {},
   "outputs": [],
   "source": [
    "from substack_api.category import Category, list_all_categories"
   ]
  },
  {
   "cell_type": "code",
   "execution_count": 2,
   "metadata": {},
   "outputs": [
    {
     "data": {
      "text/plain": [
       "[('Culture', 96),\n",
       " ('Technology', 4),\n",
       " ('Business', 62),\n",
       " ('U.S. Politics', 76739),\n",
       " ('Finance', 153),\n",
       " ('Food & Drink', 13645),\n",
       " ('Podcasts', 'podcast'),\n",
       " ('Sports', 94),\n",
       " ('Art & Illustration', 15417),\n",
       " ('World Politics', 76740),\n",
       " ('Health Politics', 76741),\n",
       " ('News', 103),\n",
       " ('Fashion & Beauty', 49715),\n",
       " ('Music', 11),\n",
       " ('Faith & Spirituality', 223),\n",
       " ('Climate & Environment', 15414),\n",
       " ('Science', 134),\n",
       " ('Literature', 339),\n",
       " ('Fiction', 284),\n",
       " ('Health & Wellness', 355),\n",
       " ('Design', 61),\n",
       " ('Travel', 109),\n",
       " ('Parenting ', 1796),\n",
       " ('Philosophy', 114),\n",
       " ('Comics', 387),\n",
       " ('International', 51282),\n",
       " ('Crypto', 118),\n",
       " ('History', 18),\n",
       " ('Humor', 49692),\n",
       " ('Education', 34)]"
      ]
     },
     "execution_count": 2,
     "metadata": {},
     "output_type": "execute_result"
    }
   ],
   "source": [
    "list_all_categories()"
   ]
  },
  {
   "cell_type": "code",
   "execution_count": 3,
   "metadata": {},
   "outputs": [],
   "source": [
    "cat = Category(id=134)"
   ]
  },
  {
   "cell_type": "code",
   "execution_count": null,
   "metadata": {},
   "outputs": [],
   "source": []
  }
 ],
 "metadata": {
  "kernelspec": {
   "display_name": ".venv",
   "language": "python",
   "name": "python3"
  },
  "language_info": {
   "codemirror_mode": {
    "name": "ipython",
    "version": 3
   },
   "file_extension": ".py",
   "mimetype": "text/x-python",
   "name": "python",
   "nbconvert_exporter": "python",
   "pygments_lexer": "ipython3",
   "version": "3.12.4"
  }
 },
 "nbformat": 4,
 "nbformat_minor": 2
}
