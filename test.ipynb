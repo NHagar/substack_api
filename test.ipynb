{
 "cells": [
  {
   "cell_type": "code",
   "execution_count": 1,
   "metadata": {},
   "outputs": [],
   "source": [
    "from substack_api.category import Category, list_all_categories"
   ]
  },
  {
   "cell_type": "code",
   "execution_count": 2,
   "metadata": {},
   "outputs": [
    {
     "data": {
      "text/plain": [
       "[('Culture', 96),\n",
       " ('Technology', 4),\n",
       " ('Business', 62),\n",
       " ('U.S. Politics', 76739),\n",
       " ('Finance', 153),\n",
       " ('Food & Drink', 13645),\n",
       " ('Podcasts', 'podcast'),\n",
       " ('Sports', 94),\n",
       " ('Art & Illustration', 15417),\n",
       " ('World Politics', 76740),\n",
       " ('Health Politics', 76741),\n",
       " ('News', 103),\n",
       " ('Fashion & Beauty', 49715),\n",
       " ('Music', 11),\n",
       " ('Faith & Spirituality', 223),\n",
       " ('Climate & Environment', 15414),\n",
       " ('Science', 134),\n",
       " ('Literature', 339),\n",
       " ('Fiction', 284),\n",
       " ('Health & Wellness', 355),\n",
       " ('Design', 61),\n",
       " ('Travel', 109),\n",
       " ('Parenting ', 1796),\n",
       " ('Philosophy', 114),\n",
       " ('Comics', 387),\n",
       " ('International', 51282),\n",
       " ('Crypto', 118),\n",
       " ('History', 18),\n",
       " ('Humor', 49692),\n",
       " ('Education', 34)]"
      ]
     },
     "execution_count": 2,
     "metadata": {},
     "output_type": "execute_result"
    }
   ],
   "source": [
    "list_all_categories()"
   ]
  },
  {
   "cell_type": "code",
   "execution_count": 3,
   "metadata": {},
   "outputs": [],
   "source": [
    "cat = Category(id=134)"
   ]
  },
  {
   "cell_type": "code",
   "execution_count": 4,
   "metadata": {},
   "outputs": [
    {
     "name": "stdout",
     "output_type": "stream",
     "text": [
      "page 1 done\n",
      "page 2 done\n",
      "page 3 done\n",
      "page 4 done\n",
      "page 5 done\n",
      "page 6 done\n",
      "page 7 done\n",
      "page 8 done\n",
      "page 9 done\n",
      "page 10 done\n",
      "page 11 done\n",
      "page 12 done\n"
     ]
    },
    {
     "ename": "HTTPError",
     "evalue": "429 Client Error: Too Many Requests for url: https://substack.com/api/v1/category/public/134/all?page=12",
     "output_type": "error",
     "traceback": [
      "\u001b[31m---------------------------------------------------------------------------\u001b[39m",
      "\u001b[31mHTTPError\u001b[39m                                 Traceback (most recent call last)",
      "\u001b[36mCell\u001b[39m\u001b[36m \u001b[39m\u001b[32mIn[4]\u001b[39m\u001b[32m, line 1\u001b[39m\n\u001b[32m----> \u001b[39m\u001b[32m1\u001b[39m \u001b[43mcat\u001b[49m\u001b[43m.\u001b[49m\u001b[43mget_newsletters\u001b[49m\u001b[43m(\u001b[49m\u001b[43m)\u001b[49m\n",
      "\u001b[36mFile \u001b[39m\u001b[32m~/Documents/substack_api/substack_api/category.py:76\u001b[39m, in \u001b[36mCategory.get_newsletters\u001b[39m\u001b[34m(self, include_all_metadata)\u001b[39m\n\u001b[32m     74\u001b[39m full_url = endpoint + \u001b[38;5;28mstr\u001b[39m(page_num)\n\u001b[32m     75\u001b[39m r = requests.get(full_url, headers=HEADERS, timeout=\u001b[32m30\u001b[39m)\n\u001b[32m---> \u001b[39m\u001b[32m76\u001b[39m \u001b[43mr\u001b[49m\u001b[43m.\u001b[49m\u001b[43mraise_for_status\u001b[49m\u001b[43m(\u001b[49m\u001b[43m)\u001b[49m\n\u001b[32m     78\u001b[39m resp = r.json()\n\u001b[32m     80\u001b[39m \u001b[38;5;28;01mif\u001b[39;00m include_all_metadata:\n",
      "\u001b[36mFile \u001b[39m\u001b[32m~/Documents/substack_api/.venv/lib/python3.12/site-packages/requests/models.py:1024\u001b[39m, in \u001b[36mResponse.raise_for_status\u001b[39m\u001b[34m(self)\u001b[39m\n\u001b[32m   1019\u001b[39m     http_error_msg = (\n\u001b[32m   1020\u001b[39m         \u001b[33mf\u001b[39m\u001b[33m\"\u001b[39m\u001b[38;5;132;01m{\u001b[39;00m\u001b[38;5;28mself\u001b[39m.status_code\u001b[38;5;132;01m}\u001b[39;00m\u001b[33m Server Error: \u001b[39m\u001b[38;5;132;01m{\u001b[39;00mreason\u001b[38;5;132;01m}\u001b[39;00m\u001b[33m for url: \u001b[39m\u001b[38;5;132;01m{\u001b[39;00m\u001b[38;5;28mself\u001b[39m.url\u001b[38;5;132;01m}\u001b[39;00m\u001b[33m\"\u001b[39m\n\u001b[32m   1021\u001b[39m     )\n\u001b[32m   1023\u001b[39m \u001b[38;5;28;01mif\u001b[39;00m http_error_msg:\n\u001b[32m-> \u001b[39m\u001b[32m1024\u001b[39m     \u001b[38;5;28;01mraise\u001b[39;00m HTTPError(http_error_msg, response=\u001b[38;5;28mself\u001b[39m)\n",
      "\u001b[31mHTTPError\u001b[39m: 429 Client Error: Too Many Requests for url: https://substack.com/api/v1/category/public/134/all?page=12"
     ]
    }
   ],
   "source": [
    "cat.get_newsletters()"
   ]
  },
  {
   "cell_type": "code",
   "execution_count": null,
   "metadata": {},
   "outputs": [],
   "source": []
  }
 ],
 "metadata": {
  "kernelspec": {
   "display_name": ".venv",
   "language": "python",
   "name": "python3"
  },
  "language_info": {
   "codemirror_mode": {
    "name": "ipython",
    "version": 3
   },
   "file_extension": ".py",
   "mimetype": "text/x-python",
   "name": "python",
   "nbconvert_exporter": "python",
   "pygments_lexer": "ipython3",
   "version": "3.12.4"
  }
 },
 "nbformat": 4,
 "nbformat_minor": 2
}
